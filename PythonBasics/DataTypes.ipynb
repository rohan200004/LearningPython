{
 "cells": [
  {
   "cell_type": "markdown",
   "id": "0df5df25",
   "metadata": {},
   "source": [
    "## Today we learned\n",
    "#### Int, Float, String, Boolean"
   ]
  },
  {
   "cell_type": "code",
   "execution_count": 9,
   "id": "9622ef78",
   "metadata": {},
   "outputs": [
    {
     "name": "stdout",
     "output_type": "stream",
     "text": [
      "30\n",
      "<class 'int'>\n"
     ]
    }
   ],
   "source": [
    "#int\n",
    "a = 30\n",
    "print(a)\n",
    "print(type(a))"
   ]
  },
  {
   "cell_type": "code",
   "execution_count": 2,
   "id": "ce476a6a",
   "metadata": {},
   "outputs": [
    {
     "data": {
      "text/plain": [
       "140737427089224"
      ]
     },
     "execution_count": 2,
     "metadata": {},
     "output_type": "execute_result"
    }
   ],
   "source": [
    "id(a)"
   ]
  },
  {
   "cell_type": "code",
   "execution_count": 3,
   "id": "250dc04e",
   "metadata": {},
   "outputs": [
    {
     "data": {
      "text/plain": [
       "140737427089224"
      ]
     },
     "execution_count": 3,
     "metadata": {},
     "output_type": "execute_result"
    }
   ],
   "source": [
    "id(30)"
   ]
  },
  {
   "cell_type": "code",
   "execution_count": 11,
   "id": "9d63adba",
   "metadata": {},
   "outputs": [
    {
     "name": "stdout",
     "output_type": "stream",
     "text": [
      "<class 'str'>\n",
      "s\n"
     ]
    }
   ],
   "source": [
    "character = 's'\n",
    "print(type(character))\n",
    "print(character)"
   ]
  },
  {
   "cell_type": "code",
   "execution_count": 12,
   "id": "5d65072a",
   "metadata": {},
   "outputs": [
    {
     "name": "stdout",
     "output_type": "stream",
     "text": [
      "<class 'float'>\n"
     ]
    }
   ],
   "source": [
    "flt = 10.32\n",
    "print(type(flt))"
   ]
  },
  {
   "cell_type": "code",
   "execution_count": 13,
   "id": "98eeee32",
   "metadata": {},
   "outputs": [
    {
     "name": "stdout",
     "output_type": "stream",
     "text": [
      "True\n",
      "<class 'bool'>\n"
     ]
    }
   ],
   "source": [
    "condn = True\n",
    "print(condn)\n",
    "print(type(condn))"
   ]
  },
  {
   "cell_type": "code",
   "execution_count": null,
   "id": "c40ab3b0",
   "metadata": {},
   "outputs": [],
   "source": []
  }
 ],
 "metadata": {
  "kernelspec": {
   "display_name": "venv",
   "language": "python",
   "name": "python3"
  },
  "language_info": {
   "codemirror_mode": {
    "name": "ipython",
    "version": 3
   },
   "file_extension": ".py",
   "mimetype": "text/x-python",
   "name": "python",
   "nbconvert_exporter": "python",
   "pygments_lexer": "ipython3",
   "version": "3.13.3"
  }
 },
 "nbformat": 4,
 "nbformat_minor": 5
}
