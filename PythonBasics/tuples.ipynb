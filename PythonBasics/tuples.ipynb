{
 "cells": [
  {
   "cell_type": "code",
   "execution_count": 1,
   "id": "5bdd3a0c",
   "metadata": {},
   "outputs": [],
   "source": [
    "tup = ()  # empty tuple"
   ]
  },
  {
   "cell_type": "code",
   "execution_count": 2,
   "id": "a077de89",
   "metadata": {},
   "outputs": [
    {
     "data": {
      "text/plain": [
       "()"
      ]
     },
     "execution_count": 2,
     "metadata": {},
     "output_type": "execute_result"
    }
   ],
   "source": [
    "tup"
   ]
  },
  {
   "cell_type": "code",
   "execution_count": 3,
   "id": "9831ec34",
   "metadata": {},
   "outputs": [
    {
     "name": "stdout",
     "output_type": "stream",
     "text": [
      "(1, 2, 3, 4, 5)\n"
     ]
    }
   ],
   "source": [
    "tup = tuple([1,2,3,4,5])\n",
    "print(tup)"
   ]
  },
  {
   "cell_type": "code",
   "execution_count": null,
   "id": "c71dd4d5",
   "metadata": {},
   "outputs": [
    {
     "data": {
      "text/plain": [
       "12"
      ]
     },
     "execution_count": 4,
     "metadata": {},
     "output_type": "execute_result"
    }
   ],
   "source": [
    "int(\"12\")   # type castings"
   ]
  },
  {
   "cell_type": "code",
   "execution_count": 6,
   "id": "bd840d10",
   "metadata": {},
   "outputs": [
    {
     "name": "stdout",
     "output_type": "stream",
     "text": [
      "[1, 2, 3, 4, 5, 6, 7, 8, 9, 10, 11, 12, 13, 14, 15, 16, 17, 18, 19, 20, 21, 22, 23, 24, 25, 26, 27, 28, 29, 30, 31, 32, 33, 34, 35, 36, 37, 38, 39, 40, 41, 42, 43, 44, 45, 46, 47, 48, 49, 50, 51, 52, 53, 54, 55, 56, 57, 58, 59, 60, 61, 62, 63, 64, 65, 66, 67, 68, 69, 70, 71, 72, 73, 74, 75, 76, 77, 78, 79, 80, 81, 82, 83, 84, 85, 86, 87, 88, 89, 90, 91, 92, 93, 94, 95, 96, 97, 98, 99, 100]\n"
     ]
    }
   ],
   "source": [
    "# Comprehension list\n",
    "li = []\n",
    "for i in range(1, 101):\n",
    "    li.append(i)\n",
    "print(li)"
   ]
  },
  {
   "cell_type": "code",
   "execution_count": 8,
   "id": "c618152a",
   "metadata": {},
   "outputs": [
    {
     "name": "stdout",
     "output_type": "stream",
     "text": [
      "[5, 10, 15, 20, 25, 30, 35, 40, 45, 50]\n"
     ]
    }
   ],
   "source": [
    "li = [5*i for i in range(1, 11)]\n",
    "print(li)"
   ]
  },
  {
   "cell_type": "code",
   "execution_count": 10,
   "id": "3899e5b4",
   "metadata": {},
   "outputs": [
    {
     "name": "stdout",
     "output_type": "stream",
     "text": [
      "(1, 2, 3, 4, 5, 6, 7, 8, 9, 10)\n"
     ]
    }
   ],
   "source": [
    "tup = tuple([i for i in range(1, 11)])\n",
    "print(tup)"
   ]
  },
  {
   "cell_type": "code",
   "execution_count": 11,
   "id": "fc870c4f",
   "metadata": {},
   "outputs": [
    {
     "name": "stdout",
     "output_type": "stream",
     "text": [
      "[1, 2, 3, 4, 5, 6, 7, 8, 9, 10]\n"
     ]
    }
   ],
   "source": [
    "li = list(tup)\n",
    "print(li)"
   ]
  },
  {
   "cell_type": "code",
   "execution_count": 12,
   "id": "c8d4e612",
   "metadata": {},
   "outputs": [],
   "source": [
    "li.append(11)"
   ]
  },
  {
   "cell_type": "code",
   "execution_count": 13,
   "id": "b6b585bb",
   "metadata": {},
   "outputs": [
    {
     "data": {
      "text/plain": [
       "[1, 2, 3, 4, 5, 6, 7, 8, 9, 10, 11]"
      ]
     },
     "execution_count": 13,
     "metadata": {},
     "output_type": "execute_result"
    }
   ],
   "source": [
    "li"
   ]
  },
  {
   "cell_type": "code",
   "execution_count": 14,
   "id": "3881aa57",
   "metadata": {},
   "outputs": [
    {
     "name": "stdout",
     "output_type": "stream",
     "text": [
      "(1, 2, 3, 4, 5, 6, 7, 8, 9, 10, 11)\n"
     ]
    }
   ],
   "source": [
    "tup = tuple(li)\n",
    "print(tup)"
   ]
  },
  {
   "cell_type": "code",
   "execution_count": 15,
   "id": "bcac8978",
   "metadata": {},
   "outputs": [
    {
     "data": {
      "text/plain": [
       "(1, 2, 3, 4, 5, 6, 7, 8, 9, 10, 11)"
      ]
     },
     "execution_count": 15,
     "metadata": {},
     "output_type": "execute_result"
    }
   ],
   "source": [
    "tup"
   ]
  },
  {
   "cell_type": "code",
   "execution_count": 16,
   "id": "91de8c88",
   "metadata": {},
   "outputs": [
    {
     "data": {
      "text/plain": [
       "66"
      ]
     },
     "execution_count": 16,
     "metadata": {},
     "output_type": "execute_result"
    }
   ],
   "source": [
    "sum(tup)"
   ]
  },
  {
   "cell_type": "code",
   "execution_count": 17,
   "id": "9c36e1cf",
   "metadata": {},
   "outputs": [
    {
     "data": {
      "text/plain": [
       "11"
      ]
     },
     "execution_count": 17,
     "metadata": {},
     "output_type": "execute_result"
    }
   ],
   "source": [
    "len(tup)"
   ]
  },
  {
   "cell_type": "code",
   "execution_count": 19,
   "id": "a7d46a91",
   "metadata": {},
   "outputs": [
    {
     "name": "stdout",
     "output_type": "stream",
     "text": [
      "<class 'tuple'>\n"
     ]
    }
   ],
   "source": [
    "print(type(tup))"
   ]
  },
  {
   "cell_type": "code",
   "execution_count": 20,
   "id": "44ef402a",
   "metadata": {},
   "outputs": [
    {
     "data": {
      "text/plain": [
       "(1, 2, 3, 4, 5, 6, 7, 8, 9, 10, 11)"
      ]
     },
     "execution_count": 20,
     "metadata": {},
     "output_type": "execute_result"
    }
   ],
   "source": [
    "tup"
   ]
  },
  {
   "cell_type": "code",
   "execution_count": 21,
   "id": "e40c0ef5",
   "metadata": {},
   "outputs": [
    {
     "data": {
      "text/plain": [
       "1"
      ]
     },
     "execution_count": 21,
     "metadata": {},
     "output_type": "execute_result"
    }
   ],
   "source": [
    "tup.count(3)"
   ]
  },
  {
   "cell_type": "code",
   "execution_count": 22,
   "id": "0b45aabe",
   "metadata": {},
   "outputs": [
    {
     "data": {
      "text/plain": [
       "2"
      ]
     },
     "execution_count": 22,
     "metadata": {},
     "output_type": "execute_result"
    }
   ],
   "source": [
    "tup.index(3)"
   ]
  },
  {
   "cell_type": "code",
   "execution_count": 56,
   "id": "43a30ff7",
   "metadata": {},
   "outputs": [
    {
     "name": "stdout",
     "output_type": "stream",
     "text": [
      "(1, 2, 3, 4, 5, 6)\n"
     ]
    }
   ],
   "source": [
    "t1 = (1,2,3)\n",
    "t2 = (4,5,6)\n",
    "t3 = t1 + t2\n",
    "print(t3)"
   ]
  },
  {
   "cell_type": "code",
   "execution_count": 29,
   "id": "d8d3d5e5",
   "metadata": {},
   "outputs": [
    {
     "data": {
      "text/plain": [
       "(1, 2, 3, 4, 5, 6, 7, 8, 9, 10, 11)"
      ]
     },
     "execution_count": 29,
     "metadata": {},
     "output_type": "execute_result"
    }
   ],
   "source": [
    "tup"
   ]
  },
  {
   "cell_type": "code",
   "execution_count": null,
   "id": "6d8b40de",
   "metadata": {},
   "outputs": [],
   "source": [
    "# Create a tuple of table 7\n",
    "# print the sum of above 7 table tup\n",
    "# create a tuple of table 9 and then multiply all the values in a tuple with 2\n",
    "# create a tuple with first five even numbers and then add (10, 20, 30, 40, 50) to that tuple\n",
    "# divide all the elements in this tuple (12, 34, 56, 78, 34,56, 43) with 10 and print the tuple"
   ]
  },
  {
   "cell_type": "markdown",
   "id": "3dfde260",
   "metadata": {},
   "source": [
    "## 1. Create a tuple of table 7"
   ]
  },
  {
   "cell_type": "code",
   "execution_count": 30,
   "id": "2bf6e1ff",
   "metadata": {},
   "outputs": [
    {
     "name": "stdout",
     "output_type": "stream",
     "text": [
      "(7, 14, 21, 28, 35, 42, 49, 56, 63, 70)\n"
     ]
    }
   ],
   "source": [
    "tup = tuple(7*i for i in range(1,11))\n",
    "print(tup)"
   ]
  },
  {
   "cell_type": "markdown",
   "id": "6011484c",
   "metadata": {},
   "source": [
    "## 2. print the sum of above 7 table tup"
   ]
  },
  {
   "cell_type": "code",
   "execution_count": 31,
   "id": "eab25c9b",
   "metadata": {},
   "outputs": [
    {
     "name": "stdout",
     "output_type": "stream",
     "text": [
      "(7, 14, 21, 28, 35, 42, 49, 56, 63, 70)\n",
      "385\n"
     ]
    }
   ],
   "source": [
    "tup = tuple(7*i for i in range(1,11))\n",
    "print(tup)\n",
    "print(sum(tup))"
   ]
  },
  {
   "cell_type": "markdown",
   "id": "8d9a3b44",
   "metadata": {},
   "source": [
    "### 3. create a tuple of table 9 and then multiply all the values in a tuple with 2"
   ]
  },
  {
   "cell_type": "code",
   "execution_count": 39,
   "id": "ecd6ebfa",
   "metadata": {},
   "outputs": [
    {
     "name": "stdout",
     "output_type": "stream",
     "text": [
      "(9, 18, 27, 36, 45, 54, 63, 72, 81, 90)\n",
      "(18, 36, 54, 72, 90, 108, 126, 144, 162, 180)\n"
     ]
    }
   ],
   "source": [
    "tup = tuple(9*i for i in range(1,11))\n",
    "print(tup)\n",
    "multi = tuple(i*2 for i in tup)\n",
    "print(multi)"
   ]
  },
  {
   "cell_type": "markdown",
   "id": "e40c016b",
   "metadata": {},
   "source": [
    "### 4. create a tuple with first five even numbers and then add (10, 20, 30, 40, 50) to that tuple"
   ]
  },
  {
   "cell_type": "code",
   "execution_count": 51,
   "id": "7be40361",
   "metadata": {},
   "outputs": [
    {
     "name": "stdout",
     "output_type": "stream",
     "text": [
      "(2, 4, 6, 8, 10)\n",
      "[2, 4, 6, 8, 10]\n",
      "[2, 4, 6, 8, 10, 10, 20, 30, 40, 50]\n",
      "(2, 4, 6, 8, 10, 10, 20, 30, 40, 50)\n"
     ]
    }
   ],
   "source": [
    "tup = tuple(i for i in range(2,11,2))\n",
    "print(tup)\n",
    "li = list(tup)\n",
    "print(li)\n",
    "li2 = [10,20,30,40,50]\n",
    "li3 = li + li2\n",
    "print(li3)\n",
    "li3 = tuple(li3)\n",
    "print(li3)"
   ]
  },
  {
   "cell_type": "markdown",
   "id": "33752d75",
   "metadata": {},
   "source": [
    "### 5. divide all the elements in this tuple (12, 34, 56, 78, 34,56, 43) with 10 and print the tuple"
   ]
  },
  {
   "cell_type": "code",
   "execution_count": 54,
   "id": "7acec280",
   "metadata": {},
   "outputs": [
    {
     "name": "stdout",
     "output_type": "stream",
     "text": [
      "(1.2, 3.4, 5.6, 7.8, 3.4, 5.6, 4.3)\n"
     ]
    }
   ],
   "source": [
    "tup = (12,34,56,78,34,56,43)\n",
    "tup2 = tuple(i / 10 for i in tup)\n",
    "print(tup2)"
   ]
  },
  {
   "cell_type": "code",
   "execution_count": 59,
   "id": "a7182605",
   "metadata": {},
   "outputs": [
    {
     "name": "stdout",
     "output_type": "stream",
     "text": [
      "1 3 5 7 9 "
     ]
    }
   ],
   "source": [
    "# Even or odd code\n",
    "for i in range(1, 11, 2):\n",
    "    print(i, end = \" \")"
   ]
  },
  {
   "cell_type": "code",
   "execution_count": null,
   "id": "020a4151",
   "metadata": {},
   "outputs": [
    {
     "name": "stdout",
     "output_type": "stream",
     "text": [
      "1 3 5 7 9 "
     ]
    }
   ],
   "source": [
    "for i in range(1, 6):\n",
    "    print(2*i - 1, end = \" \")"
   ]
  },
  {
   "cell_type": "code",
   "execution_count": 63,
   "id": "09a2e010",
   "metadata": {},
   "outputs": [
    {
     "name": "stdout",
     "output_type": "stream",
     "text": [
      "2 4 6 8 10 "
     ]
    }
   ],
   "source": [
    "for i in range(2, 11, 2):\n",
    "    print(i, end = ' ')"
   ]
  },
  {
   "cell_type": "code",
   "execution_count": 64,
   "id": "749ac2c2",
   "metadata": {},
   "outputs": [
    {
     "name": "stdout",
     "output_type": "stream",
     "text": [
      "2 4 6 8 10 "
     ]
    }
   ],
   "source": [
    "for i in range(1, 6):\n",
    "    print(i * 2, end = ' ')"
   ]
  },
  {
   "cell_type": "code",
   "execution_count": null,
   "id": "38222c79",
   "metadata": {},
   "outputs": [
    {
     "name": "stdout",
     "output_type": "stream",
     "text": [
      "4,8,12,16,20,24,28,32,36,40\n"
     ]
    }
   ],
   "source": [
    "# print 4 th table \n",
    "\n",
    "# 4,8,12,16,20,24,28,32,36,40\n",
    "\n",
    "for i in range(1,10):\n",
    "    print(i *4, end =',')\n",
    "print((i+1)*4)"
   ]
  },
  {
   "cell_type": "code",
   "execution_count": null,
   "id": "c92d9dea",
   "metadata": {},
   "outputs": [
    {
     "name": "stdout",
     "output_type": "stream",
     "text": [
      "4,8,12,16,20,24,28,32,36,40\n"
     ]
    }
   ],
   "source": [
    "for i in range(4,40,4):\n",
    "    print(i, end = ',')\n",
    "# print(i + 1, end = '') \n",
    "print(i+4)"
   ]
  },
  {
   "cell_type": "code",
   "execution_count": null,
   "id": "10776c9f",
   "metadata": {},
   "outputs": [],
   "source": [
    "# tuple is a sequence of elements which is immutable (cannot be changed once created).\n",
    "# list is a sequence of elements which is mutable (can be changed once created)."
   ]
  },
  {
   "cell_type": "code",
   "execution_count": 88,
   "id": "d2902640",
   "metadata": {},
   "outputs": [
    {
     "name": "stdout",
     "output_type": "stream",
     "text": [
      "Even\n"
     ]
    }
   ],
   "source": [
    "# Write a program to print a number is even or odd using if else\n",
    "num = 40\n",
    "if (num % 2 == 0):\n",
    "    print('Even')\n",
    "else:\n",
    "    print(\"Odd\")"
   ]
  },
  {
   "cell_type": "code",
   "execution_count": null,
   "id": "e9fe48ff",
   "metadata": {},
   "outputs": [],
   "source": [
    "# number =  1234\n",
    "# output = 1+2+3+4 = 10"
   ]
  },
  {
   "cell_type": "code",
   "execution_count": 100,
   "id": "2840859d",
   "metadata": {},
   "outputs": [
    {
     "name": "stdout",
     "output_type": "stream",
     "text": [
      "['1', '2', '3', '4']\n",
      "10\n"
     ]
    }
   ],
   "source": [
    "# String type\n",
    "nums = input(\"enter the number\")\n",
    "print(list(nums))\n",
    "sum = 0\n",
    "for num in nums:\n",
    "    sum = sum + int(num)\n",
    "print(sum)"
   ]
  },
  {
   "cell_type": "code",
   "execution_count": null,
   "id": "d6964a6d",
   "metadata": {},
   "outputs": [
    {
     "name": "stdout",
     "output_type": "stream",
     "text": [
      "10\n"
     ]
    }
   ],
   "source": [
    "# number\n",
    "num = 1234   #0\n",
    "sum = 0   # 4 + 3 + 2 + 1\n",
    "while (num > 0):\n",
    "    digit = num % 10\n",
    "    sum = sum + digit\n",
    "    num = num // 10\n",
    "print(sum)"
   ]
  },
  {
   "cell_type": "code",
   "execution_count": 114,
   "id": "59ca1dd6",
   "metadata": {},
   "outputs": [
    {
     "data": {
      "text/plain": [
       "1"
      ]
     },
     "execution_count": 114,
     "metadata": {},
     "output_type": "execute_result"
    }
   ],
   "source": [
    "1 % 10"
   ]
  },
  {
   "cell_type": "code",
   "execution_count": 115,
   "id": "4d8486b0",
   "metadata": {},
   "outputs": [
    {
     "data": {
      "text/plain": [
       "0"
      ]
     },
     "execution_count": 115,
     "metadata": {},
     "output_type": "execute_result"
    }
   ],
   "source": [
    "1 // 10   # floor division"
   ]
  },
  {
   "cell_type": "code",
   "execution_count": null,
   "id": "0198b53d",
   "metadata": {},
   "outputs": [],
   "source": [
    "# write a program to check whether 3 present in this list or not list = [1,2,5,3,4,5] if present print True else False\n",
    "# Write a program to check whether the number is divisible by 5 or not, if yes print True else False  (25 = True) (26 = False)\n",
    "# Write a program to multiply all the digits in the given number eg. number = 1234  Output = 1 * 2 * 3 * 4 = 24\n",
    "# Write a program to convert a number to a list of digits  eg : 1234  output = [1,2,3,4]"
   ]
  },
  {
   "cell_type": "markdown",
   "id": "059242ec",
   "metadata": {},
   "source": [
    "## write a program to check whether 3 present in this list or not list = [1,2,5,3,4,5] if present print True else False"
   ]
  },
  {
   "cell_type": "code",
   "execution_count": 116,
   "id": "e82f9822",
   "metadata": {},
   "outputs": [
    {
     "name": "stdout",
     "output_type": "stream",
     "text": [
      "True\n"
     ]
    }
   ],
   "source": [
    "li = [1, 2, 5, 3, 4, 5]\n",
    "if 3 in li:\n",
    "    print(True)\n",
    "else:\n",
    "    print(False)\n"
   ]
  },
  {
   "cell_type": "markdown",
   "id": "fa6522b1",
   "metadata": {},
   "source": [
    "### Write a program to check whether the number is divisible by 5 or not, if yes print True else False  (25 = True) (26 = False)"
   ]
  },
  {
   "cell_type": "code",
   "execution_count": 118,
   "id": "6b3985c3",
   "metadata": {},
   "outputs": [
    {
     "name": "stdout",
     "output_type": "stream",
     "text": [
      "False\n"
     ]
    }
   ],
   "source": [
    "num = int(input(\"Enter a number: \"))\n",
    "if num % 5 == 0:\n",
    "    print(True)\n",
    "else:\n",
    "    print(False)\n"
   ]
  },
  {
   "cell_type": "markdown",
   "id": "afc9b59c",
   "metadata": {},
   "source": [
    "### Write a program to multiply all the digits in the given number eg. number = 1234  Output = 1 * 2 * 3 * 4 = 24"
   ]
  },
  {
   "cell_type": "code",
   "execution_count": 121,
   "id": "6043bb86",
   "metadata": {},
   "outputs": [
    {
     "name": "stdout",
     "output_type": "stream",
     "text": [
      "1\n"
     ]
    }
   ],
   "source": [
    "num = int(input(\"Enter a number: \"))\n",
    "li = 1\n",
    "for digit in str(li):\n",
    "    li *= int(digit)\n",
    "print(li)\n"
   ]
  },
  {
   "cell_type": "markdown",
   "id": "eb817210",
   "metadata": {},
   "source": [
    "### Write a program to convert a number to a list of digits  eg : 1234  output = [1,2,3,4]"
   ]
  },
  {
   "cell_type": "code",
   "execution_count": 122,
   "id": "6c529031",
   "metadata": {},
   "outputs": [
    {
     "name": "stdout",
     "output_type": "stream",
     "text": [
      "[1, 2, 3, 4]\n"
     ]
    }
   ],
   "source": [
    "num = int(input(\"Enter a number: \"))\n",
    "digits = [int(digit) for digit in str(num)]\n",
    "print(digits)\n"
   ]
  },
  {
   "cell_type": "code",
   "execution_count": null,
   "id": "b33a5008",
   "metadata": {},
   "outputs": [],
   "source": []
  }
 ],
 "metadata": {
  "kernelspec": {
   "display_name": "venv",
   "language": "python",
   "name": "python3"
  },
  "language_info": {
   "codemirror_mode": {
    "name": "ipython",
    "version": 3
   },
   "file_extension": ".py",
   "mimetype": "text/x-python",
   "name": "python",
   "nbconvert_exporter": "python",
   "pygments_lexer": "ipython3",
   "version": "3.13.3"
  }
 },
 "nbformat": 4,
 "nbformat_minor": 5
}
