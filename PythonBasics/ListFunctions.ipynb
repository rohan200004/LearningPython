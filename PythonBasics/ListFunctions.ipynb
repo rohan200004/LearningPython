{
 "cells": [
  {
   "cell_type": "markdown",
   "id": "b013a6b9",
   "metadata": {},
   "source": [
    "Method\tDescription<br><br>\n",
    "append()\tAdds an element at the end of the list<br>\n",
    "clear()\tRemoves all the elements from the list<br>\n",
    "copy()\tReturns a copy of the list<br>\n",
    "count()\tReturns the number of elements with the specified value<br>\n",
    "extend()\tAdd the elements of a list (or any iterable), to the end of the current list<br>\n",
    "index()\tReturns the index of the first element with the specified value<br>\n",
    "insert()\tAdds an element at the specified position<br>\n",
    "pop()\tRemoves the element at the specified position<br>\n",
    "remove()\tRemoves the item with the specified value<br>\n",
    "reverse()\tReverses the order of the list<br>\n",
    "sort()\tSorts the list<br>"
   ]
  },
  {
   "cell_type": "code",
   "execution_count": 8,
   "id": "2768930a",
   "metadata": {},
   "outputs": [
    {
     "name": "stdout",
     "output_type": "stream",
     "text": [
      "[1, 2, 3, 4, 5, 6, 7, 8, 9, 1, 22, 3, 4, 5, 6, 7, 7]\n"
     ]
    }
   ],
   "source": [
    "# li = []\n",
    "li = [1,2,3,4,5,6,7,8,9,1,22,3,4,5,6,7,7]\n",
    "print(li)"
   ]
  },
  {
   "cell_type": "code",
   "execution_count": 9,
   "id": "192db047",
   "metadata": {},
   "outputs": [],
   "source": [
    "# li = list()\n",
    "# li = list([1,2,3,4])\n",
    "# print(li)"
   ]
  },
  {
   "cell_type": "code",
   "execution_count": null,
   "id": "3d2f58fb",
   "metadata": {},
   "outputs": [
    {
     "data": {
      "text/plain": [
       "17"
      ]
     },
     "execution_count": 17,
     "metadata": {},
     "output_type": "execute_result"
    }
   ],
   "source": [
    "len(li)"
   ]
  },
  {
   "cell_type": "code",
   "execution_count": 18,
   "id": "3cc3c1d7",
   "metadata": {},
   "outputs": [
    {
     "data": {
      "text/plain": [
       "7"
      ]
     },
     "execution_count": 18,
     "metadata": {},
     "output_type": "execute_result"
    }
   ],
   "source": [
    "# print(li[len(li)-1])\n",
    "li[16]"
   ]
  },
  {
   "cell_type": "code",
   "execution_count": null,
   "id": "1f91f569",
   "metadata": {},
   "outputs": [
    {
     "data": {
      "text/plain": [
       "9"
      ]
     },
     "execution_count": 21,
     "metadata": {},
     "output_type": "execute_result"
    }
   ],
   "source": [
    "# finding the middle element of the list\n",
    "\n",
    "li[len(li)//2]  # used floor division operators"
   ]
  },
  {
   "cell_type": "code",
   "execution_count": 22,
   "id": "381c07fc",
   "metadata": {},
   "outputs": [
    {
     "data": {
      "text/plain": [
       "[1, 2, 3, 4, 5, 6, 7, 8, 9, 1, 22, 3, 4, 5, 6, 7, 7]"
      ]
     },
     "execution_count": 22,
     "metadata": {},
     "output_type": "execute_result"
    }
   ],
   "source": [
    "li"
   ]
  },
  {
   "cell_type": "code",
   "execution_count": 23,
   "id": "d6a1b9a7",
   "metadata": {},
   "outputs": [
    {
     "name": "stdout",
     "output_type": "stream",
     "text": [
      "[1, 2, 3, 4, 5, 6]\n"
     ]
    }
   ],
   "source": [
    "# append      inserting elements\n",
    "li = [1,2,3,4,5]\n",
    "li.append(6)\n",
    "print(li)"
   ]
  },
  {
   "cell_type": "code",
   "execution_count": 24,
   "id": "cd064464",
   "metadata": {},
   "outputs": [
    {
     "name": "stdout",
     "output_type": "stream",
     "text": [
      "6\n",
      "[1, 2, 3, 4, 5]\n"
     ]
    }
   ],
   "source": [
    "#Pop   removing elements\n",
    "#Remove removing elements\n",
    "\n",
    "print(li.pop())   # if no value given it removes last element\n",
    "print(li)"
   ]
  },
  {
   "cell_type": "code",
   "execution_count": 25,
   "id": "ad13dfb6",
   "metadata": {},
   "outputs": [
    {
     "name": "stdout",
     "output_type": "stream",
     "text": [
      "3\n"
     ]
    }
   ],
   "source": [
    "print(li.pop(2))"
   ]
  },
  {
   "cell_type": "code",
   "execution_count": 26,
   "id": "ef56267c",
   "metadata": {},
   "outputs": [
    {
     "name": "stdout",
     "output_type": "stream",
     "text": [
      "[1, 2, 4, 5]\n"
     ]
    }
   ],
   "source": [
    "print(li)"
   ]
  },
  {
   "cell_type": "code",
   "execution_count": null,
   "id": "30c6e2b1",
   "metadata": {},
   "outputs": [
    {
     "name": "stdout",
     "output_type": "stream",
     "text": [
      "None\n",
      "[1, 2, 5]\n"
     ]
    }
   ],
   "source": [
    "li.remove(4)\n",
    "print(li)"
   ]
  },
  {
   "cell_type": "code",
   "execution_count": null,
   "id": "a01db35a",
   "metadata": {},
   "outputs": [
    {
     "name": "stdout",
     "output_type": "stream",
     "text": [
      "[1, 3, 4, 5, 2, 3, 2]\n"
     ]
    }
   ],
   "source": [
    "li = [1,2,3,4,5,2,3,2]\n",
    "li.remove(2)\n",
    "print(li)"
   ]
  },
  {
   "cell_type": "code",
   "execution_count": 33,
   "id": "dbd89bf2",
   "metadata": {},
   "outputs": [
    {
     "name": "stdout",
     "output_type": "stream",
     "text": [
      "[1, 3, 4, 5, 3]\n"
     ]
    }
   ],
   "source": [
    "# li.remove(2)\n",
    "print(li)"
   ]
  },
  {
   "cell_type": "code",
   "execution_count": 36,
   "id": "d3c1d3c5",
   "metadata": {},
   "outputs": [
    {
     "name": "stdout",
     "output_type": "stream",
     "text": [
      "True\n"
     ]
    }
   ],
   "source": [
    "li = [10, 20, 30, 40, 50]\n",
    "li.remove(30)\n",
    "for num in li:\n",
    "    if num == 20:\n",
    "        print(True)"
   ]
  },
  {
   "cell_type": "code",
   "execution_count": 39,
   "id": "6d12e7d3",
   "metadata": {},
   "outputs": [
    {
     "name": "stdout",
     "output_type": "stream",
     "text": [
      "True\n"
     ]
    }
   ],
   "source": [
    "li = [10, 20, 30, 40, 50]\n",
    "print(60 not in li)\n"
   ]
  },
  {
   "cell_type": "code",
   "execution_count": 41,
   "id": "3537af52",
   "metadata": {},
   "outputs": [
    {
     "name": "stdout",
     "output_type": "stream",
     "text": [
      "3\n"
     ]
    }
   ],
   "source": [
    "li = [1,2,3,3,2,4,5,2]\n",
    "print(li.count(2))"
   ]
  },
  {
   "cell_type": "code",
   "execution_count": 42,
   "id": "9d4ecfd3",
   "metadata": {},
   "outputs": [],
   "source": [
    "li.insert(2, 10)"
   ]
  },
  {
   "cell_type": "code",
   "execution_count": 43,
   "id": "0f94d368",
   "metadata": {},
   "outputs": [
    {
     "name": "stdout",
     "output_type": "stream",
     "text": [
      "[1, 2, 10, 3, 3, 2, 4, 5, 2]\n"
     ]
    }
   ],
   "source": [
    "print(li)"
   ]
  },
  {
   "cell_type": "code",
   "execution_count": 45,
   "id": "445a3b52",
   "metadata": {},
   "outputs": [
    {
     "name": "stdout",
     "output_type": "stream",
     "text": [
      "50 40 30 20 10 "
     ]
    }
   ],
   "source": [
    "li = [10, 20, 30, 40, 50]\n",
    "for i in range(4,-1 ,-1):\n",
    "    print(li[i], end = ' ')"
   ]
  },
  {
   "cell_type": "code",
   "execution_count": 53,
   "id": "e1b9a9bd",
   "metadata": {},
   "outputs": [
    {
     "name": "stdout",
     "output_type": "stream",
     "text": [
      "[50, 40, 30, 20]\n"
     ]
    }
   ],
   "source": [
    "print(li[4:0:-1])"
   ]
  },
  {
   "cell_type": "code",
   "execution_count": 58,
   "id": "bec0b120",
   "metadata": {},
   "outputs": [],
   "source": [
    "li = [10, 20, 30, 40, 50]"
   ]
  },
  {
   "cell_type": "code",
   "execution_count": 59,
   "id": "8af8069a",
   "metadata": {},
   "outputs": [
    {
     "name": "stdout",
     "output_type": "stream",
     "text": [
      "[50, 40, 30, 20, 10]\n"
     ]
    }
   ],
   "source": [
    "li.reverse()\n",
    "print(li)"
   ]
  },
  {
   "cell_type": "code",
   "execution_count": 61,
   "id": "8422f577",
   "metadata": {},
   "outputs": [
    {
     "name": "stdout",
     "output_type": "stream",
     "text": [
      "[1, 2, 2, 3, 4, 5, 6]\n"
     ]
    }
   ],
   "source": [
    "li = [3,2,4,5,6,1,2]\n",
    "li.sort()\n",
    "print(li)"
   ]
  },
  {
   "cell_type": "code",
   "execution_count": 62,
   "id": "efaeb96e",
   "metadata": {},
   "outputs": [
    {
     "name": "stdout",
     "output_type": "stream",
     "text": [
      "[1, 2, 2, 3, 4, 5, 6]\n",
      "[3, 2, 4, 5, 6, 1, 2]\n"
     ]
    }
   ],
   "source": [
    "li = [3,2,4,5,6,1,2]\n",
    "print(sorted(li))\n",
    "print(li)"
   ]
  },
  {
   "cell_type": "code",
   "execution_count": 63,
   "id": "624d47ec",
   "metadata": {},
   "outputs": [
    {
     "name": "stdout",
     "output_type": "stream",
     "text": [
      "2\n"
     ]
    }
   ],
   "source": [
    "li = [10, 20, 30, 40, 50]\n",
    "print(li.index(30))"
   ]
  },
  {
   "cell_type": "code",
   "execution_count": 64,
   "id": "ece15ba5",
   "metadata": {},
   "outputs": [
    {
     "data": {
      "text/plain": [
       "[10, 20, 30, 40, 50]"
      ]
     },
     "execution_count": 64,
     "metadata": {},
     "output_type": "execute_result"
    }
   ],
   "source": [
    "# extend copy clear\n",
    "\n",
    "li"
   ]
  },
  {
   "cell_type": "code",
   "execution_count": 66,
   "id": "566bbccf",
   "metadata": {},
   "outputs": [
    {
     "name": "stdout",
     "output_type": "stream",
     "text": [
      "[]\n"
     ]
    }
   ],
   "source": [
    "li.clear()\n",
    "print(li)"
   ]
  },
  {
   "cell_type": "code",
   "execution_count": 76,
   "id": "ebf274c9",
   "metadata": {},
   "outputs": [
    {
     "name": "stdout",
     "output_type": "stream",
     "text": [
      "[1, 2, 3, 4, 5]\n"
     ]
    }
   ],
   "source": [
    "li = [1,2, 3, 4, 5]\n",
    "li2 = li.copy()\n",
    "print(li2)"
   ]
  },
  {
   "cell_type": "code",
   "execution_count": 77,
   "id": "0c7b4f24",
   "metadata": {},
   "outputs": [
    {
     "name": "stdout",
     "output_type": "stream",
     "text": [
      "[1, 20, 3, 4, 5]\n",
      "[1, 2, 3, 4, 5]\n"
     ]
    }
   ],
   "source": [
    "li[1] = 20\n",
    "print(li)\n",
    "print(li2)"
   ]
  },
  {
   "cell_type": "code",
   "execution_count": 93,
   "id": "1316dda9",
   "metadata": {},
   "outputs": [],
   "source": [
    "li = [1, 20, 3, 4, 5]"
   ]
  },
  {
   "cell_type": "code",
   "execution_count": null,
   "id": "3fac34df",
   "metadata": {},
   "outputs": [
    {
     "name": "stdout",
     "output_type": "stream",
     "text": [
      "[1, 20, 3, 4, 5, [10, 20, 30]]\n"
     ]
    }
   ],
   "source": [
    "# li.append([10, 20, 30])\n",
    "# print(li)"
   ]
  },
  {
   "cell_type": "code",
   "execution_count": 94,
   "id": "afb6be9f",
   "metadata": {},
   "outputs": [
    {
     "name": "stdout",
     "output_type": "stream",
     "text": [
      "[1, 20, 3, 4, 5, 10, 20, 30]\n"
     ]
    }
   ],
   "source": [
    "li.extend([10, 20, 30])\n",
    "print(li)"
   ]
  },
  {
   "cell_type": "code",
   "execution_count": 98,
   "id": "bb87839a",
   "metadata": {},
   "outputs": [
    {
     "name": "stdout",
     "output_type": "stream",
     "text": [
      "[1, 2, 3, [4, 5, 6], 7]\n"
     ]
    }
   ],
   "source": [
    "# Nested List\n",
    "li = [1, 2, 3, [4, 5, 6], 7]\n",
    "print(li)"
   ]
  },
  {
   "cell_type": "code",
   "execution_count": 103,
   "id": "be71d410",
   "metadata": {},
   "outputs": [
    {
     "data": {
      "text/plain": [
       "6"
      ]
     },
     "execution_count": 103,
     "metadata": {},
     "output_type": "execute_result"
    }
   ],
   "source": [
    "li[3][2]"
   ]
  },
  {
   "cell_type": "code",
   "execution_count": null,
   "id": "c6659507",
   "metadata": {},
   "outputs": [
    {
     "name": "stdout",
     "output_type": "stream",
     "text": [
      "[8, 16, 24, 32, 40, 48, 56, 64, 72, 80]\n"
     ]
    }
   ],
   "source": [
    "# Homework\n",
    "# 1. create a list of table 8 using for loop and append function\n",
    "# [8, 16, 24, 32, 40, 48, 56, 64, 72, 80]\n",
    "\n",
    "# 2. find the number which middle of the list\n",
    "# 3. find the middle element of the list after sorting the list\n",
    "# 4. write a code to create a list of table 5 and print the sum of list\n",
    "# 5. write a code to reverse this list [8, 16, 24, 32, 40, 48, 56, 64, 72, 80] using all three types.\n",
    "\n"
   ]
  },
  {
   "cell_type": "markdown",
   "id": "0bee2cd8",
   "metadata": {},
   "source": [
    "<!-- 1. create a list of table 8 using for loop and append function -->"
   ]
  },
  {
   "cell_type": "markdown",
   "id": "b763e856",
   "metadata": {},
   "source": [
    "## 1. create a list of table 8 using for loop and append function"
   ]
  },
  {
   "cell_type": "code",
   "execution_count": 153,
   "id": "597aeccd",
   "metadata": {},
   "outputs": [
    {
     "name": "stdout",
     "output_type": "stream",
     "text": [
      "[1]\n"
     ]
    }
   ],
   "source": [
    "li = []\n",
    "li.append(1)\n",
    "print(li)"
   ]
  },
  {
   "cell_type": "code",
   "execution_count": 156,
   "id": "383602e8",
   "metadata": {},
   "outputs": [
    {
     "name": "stdout",
     "output_type": "stream",
     "text": [
      "[8, 16, 24, 32, 40, 48, 56, 64, 72, 80]\n"
     ]
    }
   ],
   "source": [
    "li= []\n",
    "for i in range (1,11):\n",
    "    # print(f'8 * {i} = {8 * i}')\n",
    "    li.append(8 * i)\n",
    "\n",
    "print(li)\n"
   ]
  },
  {
   "cell_type": "markdown",
   "id": "457da277",
   "metadata": {},
   "source": [
    "## 2. find the number which middle of the list"
   ]
  },
  {
   "cell_type": "code",
   "execution_count": 134,
   "id": "7fb2ebb5",
   "metadata": {},
   "outputs": [
    {
     "data": {
      "text/plain": [
       "48"
      ]
     },
     "execution_count": 134,
     "metadata": {},
     "output_type": "execute_result"
    }
   ],
   "source": [
    "li = (8, 16, 24, 32, 40, 48, 56, 64, 72, 80)\n",
    "li[len(li)//2]"
   ]
  },
  {
   "cell_type": "markdown",
   "id": "87346d7d",
   "metadata": {},
   "source": [
    "### 3. find the middle element of the list after sorting the list"
   ]
  },
  {
   "cell_type": "code",
   "execution_count": 132,
   "id": "9eceaeba",
   "metadata": {},
   "outputs": [
    {
     "name": "stdout",
     "output_type": "stream",
     "text": [
      "[0, 8, 26, 32, 40, 46, 54, 72, 80, 98]\n"
     ]
    },
    {
     "data": {
      "text/plain": [
       "46"
      ]
     },
     "execution_count": 132,
     "metadata": {},
     "output_type": "execute_result"
    }
   ],
   "source": [
    "li = [8, 46, 54, 32, 40, 98, 26, 0, 72, 80]\n",
    "li.sort()\n",
    "print(li)\n",
    "li[len(li)//2]"
   ]
  },
  {
   "cell_type": "markdown",
   "id": "83b5ffc1",
   "metadata": {},
   "source": [
    "### 4. write a code to create a list of table 5 and print the sum of list"
   ]
  },
  {
   "cell_type": "code",
   "execution_count": 158,
   "id": "2a64829e",
   "metadata": {},
   "outputs": [
    {
     "name": "stdout",
     "output_type": "stream",
     "text": [
      "[5, 10, 15, 20, 25, 30, 35, 40, 45, 50]\n",
      "275\n"
     ]
    }
   ],
   "source": [
    "li = []\n",
    "for i in range (1,11):\n",
    "    li.append(5*i)\n",
    "\n",
    "print(li)\n",
    "print(sum(li))\n"
   ]
  },
  {
   "cell_type": "code",
   "execution_count": 145,
   "id": "e19eb1ed",
   "metadata": {},
   "outputs": [
    {
     "name": "stdout",
     "output_type": "stream",
     "text": [
      "Table of 5: [5, 10, 15, 20, 25, 30, 35, 40, 45, 50]\n",
      "Sum of table: 275\n"
     ]
    }
   ],
   "source": [
    "# Create table of 5 (5 x 1 to 5 x 10)\n",
    "table_5 = []\n",
    "\n",
    "for i in range(1, 11):\n",
    "    table_5.append(5 * i)\n",
    "\n",
    "# Print the table\n",
    "print(\"Table of 5:\", table_5)\n",
    "\n",
    "# Calculate and print the sum\n",
    "total = sum(table_5)\n",
    "print(\"Sum of table:\", total)\n"
   ]
  },
  {
   "cell_type": "markdown",
   "id": "dd9f8e92",
   "metadata": {},
   "source": [
    "### 5. write a code to reverse this list [8, 16, 24, 32, 40, 48, 56, 64, 72, 80] using all three types."
   ]
  },
  {
   "cell_type": "code",
   "execution_count": 149,
   "id": "a10f6762",
   "metadata": {},
   "outputs": [
    {
     "name": "stdout",
     "output_type": "stream",
     "text": [
      "[80, 72, 64, 56, 48, 40, 32, 24, 16, 8]\n"
     ]
    }
   ],
   "source": [
    "li = [8,16,24,32,40,48,56,64,72,80]\n",
    "li.reverse()\n",
    "print(li)"
   ]
  },
  {
   "cell_type": "code",
   "execution_count": 150,
   "id": "c0ae41c7",
   "metadata": {},
   "outputs": [
    {
     "name": "stdout",
     "output_type": "stream",
     "text": [
      "80 72 64 56 48 40 32 24 16 8 "
     ]
    }
   ],
   "source": [
    "li = [8,16,24,32,40,48,56,64,72,80]\n",
    "for i in range(9,-1 ,-1):\n",
    "    print(li[i], end = ' ')\n"
   ]
  },
  {
   "cell_type": "code",
   "execution_count": 159,
   "id": "29e2598c",
   "metadata": {},
   "outputs": [
    {
     "name": "stdout",
     "output_type": "stream",
     "text": [
      "[80, 72, 64, 56, 48, 40, 32, 24, 16, 8]\n"
     ]
    }
   ],
   "source": [
    "li = [8,16,24,32,40,48,56,64,72,80]\n",
    "print(li[::-1])\n"
   ]
  },
  {
   "cell_type": "code",
   "execution_count": null,
   "id": "b9328d52",
   "metadata": {},
   "outputs": [],
   "source": []
  }
 ],
 "metadata": {
  "kernelspec": {
   "display_name": "venv",
   "language": "python",
   "name": "python3"
  },
  "language_info": {
   "codemirror_mode": {
    "name": "ipython",
    "version": 3
   },
   "file_extension": ".py",
   "mimetype": "text/x-python",
   "name": "python",
   "nbconvert_exporter": "python",
   "pygments_lexer": "ipython3",
   "version": "3.13.3"
  }
 },
 "nbformat": 4,
 "nbformat_minor": 5
}
