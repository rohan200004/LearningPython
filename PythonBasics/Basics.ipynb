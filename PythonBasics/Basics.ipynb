{
 "cells": [
  {
   "cell_type": "markdown",
   "id": "aa3f9c9b",
   "metadata": {},
   "source": [
    "# Input/Output"
   ]
  },
  {
   "cell_type": "code",
   "execution_count": 121,
   "id": "abdcc1dc",
   "metadata": {},
   "outputs": [
    {
     "name": "stdout",
     "output_type": "stream",
     "text": [
      "Rohan\n",
      "Rohan\n",
      "Sai\n"
     ]
    }
   ],
   "source": [
    "print('Rohan')\n",
    "print('Rohan')\n",
    "print('Sai')"
   ]
  },
  {
   "cell_type": "code",
   "execution_count": 134,
   "id": "f1d97950",
   "metadata": {},
   "outputs": [
    {
     "name": "stdout",
     "output_type": "stream",
     "text": [
      "Rohan Rohan-Sai\n"
     ]
    }
   ],
   "source": [
    "print('Rohan', end = ' ')\n",
    "print('Rohan', end = '-')\n",
    "print('Sai')\n"
   ]
  },
  {
   "cell_type": "markdown",
   "id": "336783cb",
   "metadata": {},
   "source": [
    "### Inputs"
   ]
  },
  {
   "cell_type": "code",
   "execution_count": 135,
   "id": "e0af2e8a",
   "metadata": {},
   "outputs": [
    {
     "name": "stdout",
     "output_type": "stream",
     "text": [
      "Money withdrawn is 100\n"
     ]
    }
   ],
   "source": [
    "money = input('how much money to withdraw')\n",
    "print('Money withdrawn is', money)"
   ]
  },
  {
   "cell_type": "code",
   "execution_count": 136,
   "id": "107a1a81",
   "metadata": {},
   "outputs": [
    {
     "name": "stdout",
     "output_type": "stream",
     "text": [
      "Money withdrawn = 100\n"
     ]
    }
   ],
   "source": [
    "# String formatting\n",
    "print(f'Money withdrawn = {money}')"
   ]
  },
  {
   "cell_type": "code",
   "execution_count": 140,
   "id": "e69e80de",
   "metadata": {},
   "outputs": [
    {
     "name": "stdout",
     "output_type": "stream",
     "text": [
      "<class 'float'>\n",
      "<class 'str'>\n",
      "<class 'bool'>\n",
      "<class 'int'>\n"
     ]
    }
   ],
   "source": [
    "print(type(10.34))\n",
    "print(type('10.34'))\n",
    "print(type(True))\n",
    "print(type(10))"
   ]
  },
  {
   "cell_type": "code",
   "execution_count": 143,
   "id": "150957df",
   "metadata": {},
   "outputs": [
    {
     "name": "stdout",
     "output_type": "stream",
     "text": [
      "10.34hello\n",
      "<class 'float'>\n"
     ]
    },
    {
     "ename": "TypeError",
     "evalue": "unsupported operand type(s) for +: 'float' and 'str'",
     "output_type": "error",
     "traceback": [
      "\u001b[31m---------------------------------------------------------------------------\u001b[39m",
      "\u001b[31mTypeError\u001b[39m                                 Traceback (most recent call last)",
      "\u001b[36mCell\u001b[39m\u001b[36m \u001b[39m\u001b[32mIn[143]\u001b[39m\u001b[32m, line 6\u001b[39m\n\u001b[32m      4\u001b[39m a = \u001b[38;5;28mfloat\u001b[39m(a)\n\u001b[32m      5\u001b[39m \u001b[38;5;28mprint\u001b[39m(\u001b[38;5;28mtype\u001b[39m(a))\n\u001b[32m----> \u001b[39m\u001b[32m6\u001b[39m \u001b[38;5;28mprint\u001b[39m(\u001b[43ma\u001b[49m\u001b[43m \u001b[49m\u001b[43m+\u001b[49m\u001b[43m \u001b[49m\u001b[33;43m'\u001b[39;49m\u001b[33;43mhello\u001b[39;49m\u001b[33;43m'\u001b[39;49m)\n\u001b[32m      7\u001b[39m \u001b[38;5;28mprint\u001b[39m(hello)\n\u001b[32m      8\u001b[39m \u001b[38;5;28mprint\u001b[39m(\u001b[33m'\u001b[39m\u001b[33mShyam\u001b[39m\u001b[33m'\u001b[39m)\n",
      "\u001b[31mTypeError\u001b[39m: unsupported operand type(s) for +: 'float' and 'str'"
     ]
    }
   ],
   "source": [
    "a = '10.34'\n",
    "print(a + 'hello')  #concatenate\n",
    "#Type casting\n",
    "a = float(a)\n",
    "print(type(a))\n",
    "print(a + 'hello')\n",
    "print(hello)\n",
    "print('Shyam')\n",
    "\n",
    "\n",
    "#101010101110100000111000\n",
    "\n",
    "# java, C and C++ have Compiler R , Go, C Sharp\n",
    "# Python has Interpreter"
   ]
  },
  {
   "cell_type": "code",
   "execution_count": null,
   "id": "1827e78d",
   "metadata": {},
   "outputs": [
    {
     "name": "stdout",
     "output_type": "stream",
     "text": [
      "30.0\n"
     ]
    }
   ],
   "source": [
    "a = 10\n",
    "b = float(input('enter any value'))  # typecast   int()  float()  str()  bool()\n",
    "print(a + b)"
   ]
  },
  {
   "cell_type": "code",
   "execution_count": null,
   "id": "a16b0afb",
   "metadata": {},
   "outputs": [
    {
     "name": "stdout",
     "output_type": "stream",
     "text": [
      "True\n"
     ]
    }
   ],
   "source": [
    "a = 'false'   # - infinite to + infinite = True   # 0 = False\n",
    "print(bool(a))  "
   ]
  },
  {
   "cell_type": "code",
   "execution_count": 145,
   "id": "51805000",
   "metadata": {},
   "outputs": [
    {
     "name": "stdout",
     "output_type": "stream",
     "text": [
      "False\n"
     ]
    }
   ],
   "source": [
    "a = False\n",
    "print(str(a))"
   ]
  },
  {
   "cell_type": "markdown",
   "id": "1324e11d",
   "metadata": {},
   "source": [
    "#### Input/Output\n",
    "#### Types int str float bool\n",
    "#### Typecasting\n",
    "#### conatination   means joining two or more string\n",
    "#### string formatation  f-string\n",
    "#### Escape Sequences   end = '\\n'\n",
    "#### Compiler and Interpreter"
   ]
  },
  {
   "cell_type": "markdown",
   "id": "84e70832",
   "metadata": {},
   "source": [
    "# Operators (Arithmetic, Comparison, Logical)"
   ]
  },
  {
   "cell_type": "code",
   "execution_count": 60,
   "id": "20ef09c1",
   "metadata": {},
   "outputs": [],
   "source": [
    "# Arithmetic operators + - * /  % = modulus  // = floor division\n",
    "# Comparison operators == (Equal) != (Not Equal) > (Greater than) < (Less Than) >= (Greater equal to) <= (Lesser equal to )\n",
    "# Logical operators and or not     output will always be True or False"
   ]
  },
  {
   "cell_type": "code",
   "execution_count": 61,
   "id": "6a20db20",
   "metadata": {},
   "outputs": [
    {
     "data": {
      "text/plain": [
       "30"
      ]
     },
     "execution_count": 61,
     "metadata": {},
     "output_type": "execute_result"
    }
   ],
   "source": [
    "10 + 20"
   ]
  },
  {
   "cell_type": "code",
   "execution_count": 62,
   "id": "40f75466",
   "metadata": {},
   "outputs": [
    {
     "data": {
      "text/plain": [
       "-10"
      ]
     },
     "execution_count": 62,
     "metadata": {},
     "output_type": "execute_result"
    }
   ],
   "source": [
    "20 - 30"
   ]
  },
  {
   "cell_type": "code",
   "execution_count": 63,
   "id": "75b19a1d",
   "metadata": {},
   "outputs": [
    {
     "data": {
      "text/plain": [
       "6"
      ]
     },
     "execution_count": 63,
     "metadata": {},
     "output_type": "execute_result"
    }
   ],
   "source": [
    "3 * 2"
   ]
  },
  {
   "cell_type": "code",
   "execution_count": 130,
   "id": "ee8ca67d",
   "metadata": {},
   "outputs": [
    {
     "data": {
      "text/plain": [
       "0.2"
      ]
     },
     "execution_count": 130,
     "metadata": {},
     "output_type": "execute_result"
    }
   ],
   "source": [
    "2 / 10"
   ]
  },
  {
   "cell_type": "code",
   "execution_count": 78,
   "id": "f9f22ec6",
   "metadata": {},
   "outputs": [
    {
     "data": {
      "text/plain": [
       "2"
      ]
     },
     "execution_count": 78,
     "metadata": {},
     "output_type": "execute_result"
    }
   ],
   "source": [
    "234 // 100"
   ]
  },
  {
   "cell_type": "code",
   "execution_count": 79,
   "id": "7db610d3",
   "metadata": {},
   "outputs": [
    {
     "data": {
      "text/plain": [
       "4"
      ]
     },
     "execution_count": 79,
     "metadata": {},
     "output_type": "execute_result"
    }
   ],
   "source": [
    "234 % 10"
   ]
  },
  {
   "cell_type": "code",
   "execution_count": 85,
   "id": "0a2a234f",
   "metadata": {},
   "outputs": [
    {
     "data": {
      "text/plain": [
       "True"
      ]
     },
     "execution_count": 85,
     "metadata": {},
     "output_type": "execute_result"
    }
   ],
   "source": [
    "34 >= 34"
   ]
  },
  {
   "cell_type": "code",
   "execution_count": 132,
   "id": "e9c47599",
   "metadata": {},
   "outputs": [
    {
     "data": {
      "text/plain": [
       "True"
      ]
     },
     "execution_count": 132,
     "metadata": {},
     "output_type": "execute_result"
    }
   ],
   "source": [
    "54 != 56"
   ]
  },
  {
   "cell_type": "markdown",
   "id": "ce717cdc",
   "metadata": {},
   "source": [
    "<!-- AND -->\n",
    "#  true and true = True\n",
    "#  true and false = False\n",
    "#  false and true = False\n",
    "#  false and false = False\n",
    "\n",
    "<!-- OR -->\n",
    "#  true or true = True\n",
    "#  true or false = True\n",
    "#  false or true = True\n",
    "#  false or false = False"
   ]
  },
  {
   "cell_type": "code",
   "execution_count": 107,
   "id": "3e0c31d8",
   "metadata": {},
   "outputs": [
    {
     "data": {
      "text/plain": [
       "False"
      ]
     },
     "execution_count": 107,
     "metadata": {},
     "output_type": "execute_result"
    }
   ],
   "source": [
    "(54 != 54)  or (36 != 36)"
   ]
  },
  {
   "cell_type": "code",
   "execution_count": 111,
   "id": "20cb6d71",
   "metadata": {},
   "outputs": [
    {
     "data": {
      "text/plain": [
       "True"
      ]
     },
     "execution_count": 111,
     "metadata": {},
     "output_type": "execute_result"
    }
   ],
   "source": [
    "not (54 != 54)"
   ]
  },
  {
   "cell_type": "code",
   "execution_count": null,
   "id": "5b64b3e8",
   "metadata": {},
   "outputs": [],
   "source": []
  }
 ],
 "metadata": {
  "kernelspec": {
   "display_name": "venv",
   "language": "python",
   "name": "python3"
  },
  "language_info": {
   "codemirror_mode": {
    "name": "ipython",
    "version": 3
   },
   "file_extension": ".py",
   "mimetype": "text/x-python",
   "name": "python",
   "nbconvert_exporter": "python",
   "pygments_lexer": "ipython3",
   "version": "3.13.3"
  }
 },
 "nbformat": 4,
 "nbformat_minor": 5
}
