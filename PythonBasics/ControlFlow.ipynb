{
 "cells": [
  {
   "cell_type": "code",
   "execution_count": null,
   "id": "bee51c0a",
   "metadata": {},
   "outputs": [],
   "source": [
    "# Control Flow (if, elif, else)\n",
    "# Loops (for, while)"
   ]
  },
  {
   "cell_type": "code",
   "execution_count": 2,
   "id": "be6d736c",
   "metadata": {},
   "outputs": [
    {
     "name": "stdout",
     "output_type": "stream",
     "text": [
      "Hello world\n",
      "how are you\n",
      "rohan\n"
     ]
    }
   ],
   "source": [
    "print('Hello world')\n",
    "print('how are you')\n",
    "print('rohan')"
   ]
  },
  {
   "cell_type": "code",
   "execution_count": null,
   "id": "59e71d27",
   "metadata": {},
   "outputs": [
    {
     "name": "stdout",
     "output_type": "stream",
     "text": [
      "You are a Old man\n"
     ]
    }
   ],
   "source": [
    "# Control Flow (if, elif, else)\n",
    "age = 70\n",
    "if age <= 18:\n",
    "    print(\"You are a boy\")\n",
    "elif age <= 60:\n",
    "    print('You are a Man')\n",
    "else:\n",
    "    print('You are a Old man')"
   ]
  },
  {
   "cell_type": "code",
   "execution_count": null,
   "id": "652c0052",
   "metadata": {},
   "outputs": [],
   "source": [
    "# Lists, Tuples\n",
    "# String Methods"
   ]
  },
  {
   "cell_type": "code",
   "execution_count": 5,
   "id": "6c042d89",
   "metadata": {},
   "outputs": [
    {
     "name": "stdout",
     "output_type": "stream",
     "text": [
      "[10, 20, 3.4, 65.32, True, False, 'shyam', 'rohan']\n"
     ]
    }
   ],
   "source": [
    "#List\n",
    "li = [10, 20, 3.4 , 65.32, True, False, 'shyam', 'rohan']   #square Brackets\n",
    "print(li)"
   ]
  },
  {
   "cell_type": "code",
   "execution_count": null,
   "id": "655b27b9",
   "metadata": {},
   "outputs": [
    {
     "data": {
      "text/plain": [
       "[10, 20, 3.4, 65.32]"
      ]
     },
     "execution_count": 11,
     "metadata": {},
     "output_type": "execute_result"
    }
   ],
   "source": [
    "li[0:4]   #Slicing  (breaking)"
   ]
  },
  {
   "cell_type": "code",
   "execution_count": null,
   "id": "9c902244",
   "metadata": {},
   "outputs": [
    {
     "ename": "IndexError",
     "evalue": "list index out of range",
     "output_type": "error",
     "traceback": [
      "\u001b[31m---------------------------------------------------------------------------\u001b[39m",
      "\u001b[31mIndexError\u001b[39m                                Traceback (most recent call last)",
      "\u001b[36mCell\u001b[39m\u001b[36m \u001b[39m\u001b[32mIn[17]\u001b[39m\u001b[32m, line 3\u001b[39m\n\u001b[32m      1\u001b[39m \u001b[38;5;66;03m# Reverse Indexing\u001b[39;00m\n\u001b[32m----> \u001b[39m\u001b[32m3\u001b[39m \u001b[43mli\u001b[49m\u001b[43m[\u001b[49m\u001b[43m-\u001b[49m\u001b[32;43m9\u001b[39;49m\u001b[43m]\u001b[49m\n",
      "\u001b[31mIndexError\u001b[39m: list index out of range"
     ]
    }
   ],
   "source": [
    "# Reverse Indexing\n",
    "\n",
    "li[-9]  #IndexError: list index out of range"
   ]
  },
  {
   "cell_type": "code",
   "execution_count": 22,
   "id": "fd96ea0d",
   "metadata": {},
   "outputs": [
    {
     "data": {
      "text/plain": [
       "[65.32, True, False, 'shyam', 'rohan']"
      ]
     },
     "execution_count": 22,
     "metadata": {},
     "output_type": "execute_result"
    }
   ],
   "source": [
    "li[-5:]"
   ]
  },
  {
   "cell_type": "code",
   "execution_count": 23,
   "id": "8a4fc858",
   "metadata": {},
   "outputs": [
    {
     "data": {
      "text/plain": [
       "[10, 20, 3.4, 65.32]"
      ]
     },
     "execution_count": 23,
     "metadata": {},
     "output_type": "execute_result"
    }
   ],
   "source": [
    "li[:4]"
   ]
  },
  {
   "cell_type": "code",
   "execution_count": 25,
   "id": "2849ce0b",
   "metadata": {},
   "outputs": [
    {
     "data": {
      "text/plain": [
       "[10, 20, 3.4, 65.32, True, False, 'shyam', 'rohan']"
      ]
     },
     "execution_count": 25,
     "metadata": {},
     "output_type": "execute_result"
    }
   ],
   "source": [
    "li"
   ]
  },
  {
   "cell_type": "code",
   "execution_count": 29,
   "id": "1810f4a8",
   "metadata": {},
   "outputs": [
    {
     "data": {
      "text/plain": [
       "['shyam', 'rohan']"
      ]
     },
     "execution_count": 29,
     "metadata": {},
     "output_type": "execute_result"
    }
   ],
   "source": [
    "li[6:]"
   ]
  },
  {
   "cell_type": "code",
   "execution_count": 39,
   "id": "726efa0e",
   "metadata": {},
   "outputs": [
    {
     "data": {
      "text/plain": [
       "[True, False]"
      ]
     },
     "execution_count": 39,
     "metadata": {},
     "output_type": "execute_result"
    }
   ],
   "source": [
    "li[-4:-2]"
   ]
  },
  {
   "cell_type": "code",
   "execution_count": 42,
   "id": "f6d55060",
   "metadata": {},
   "outputs": [
    {
     "data": {
      "text/plain": [
       "[True, False]"
      ]
     },
     "execution_count": 42,
     "metadata": {},
     "output_type": "execute_result"
    }
   ],
   "source": [
    "li[4:6]"
   ]
  },
  {
   "cell_type": "code",
   "execution_count": 43,
   "id": "fc5efe47",
   "metadata": {},
   "outputs": [
    {
     "name": "stdout",
     "output_type": "stream",
     "text": [
      "(10, 20, 3.4, 65.32, True, False, 'shyam', 'rohan')\n"
     ]
    }
   ],
   "source": [
    "#Tuple\n",
    "tp = (10, 20, 3.4, 65.32, True, False, 'shyam', 'rohan')  # Circle Brackets\n",
    "print(tp)"
   ]
  },
  {
   "cell_type": "code",
   "execution_count": 45,
   "id": "d6eb9c24",
   "metadata": {},
   "outputs": [
    {
     "data": {
      "text/plain": [
       "(10, 20, 3.4, 65.32)"
      ]
     },
     "execution_count": 45,
     "metadata": {},
     "output_type": "execute_result"
    }
   ],
   "source": [
    "tp[0:4]"
   ]
  },
  {
   "cell_type": "code",
   "execution_count": 47,
   "id": "a5fd5b33",
   "metadata": {},
   "outputs": [
    {
     "data": {
      "text/plain": [
       "[10, 20, 3.4, 65.32]"
      ]
     },
     "execution_count": 47,
     "metadata": {},
     "output_type": "execute_result"
    }
   ],
   "source": [
    "li[0:4]"
   ]
  },
  {
   "cell_type": "code",
   "execution_count": 51,
   "id": "f403baef",
   "metadata": {},
   "outputs": [
    {
     "data": {
      "text/plain": [
       "[10, 20, 3.4, 65.32, False, 'shyam', 'rohan']"
      ]
     },
     "execution_count": 51,
     "metadata": {},
     "output_type": "execute_result"
    }
   ],
   "source": [
    "li[0:4] + li[5:]"
   ]
  },
  {
   "cell_type": "code",
   "execution_count": 52,
   "id": "6fc9c36b",
   "metadata": {},
   "outputs": [
    {
     "data": {
      "text/plain": [
       "(10, 20, 3.4, 65.32, False, 'shyam', 'rohan')"
      ]
     },
     "execution_count": 52,
     "metadata": {},
     "output_type": "execute_result"
    }
   ],
   "source": [
    "tp[0:4] + tp[5:]"
   ]
  },
  {
   "cell_type": "code",
   "execution_count": 57,
   "id": "13e0221c",
   "metadata": {},
   "outputs": [],
   "source": [
    "#strings\n",
    "name = 'RohanBalingula'"
   ]
  },
  {
   "cell_type": "code",
   "execution_count": 60,
   "id": "ac4b42e6",
   "metadata": {},
   "outputs": [
    {
     "data": {
      "text/plain": [
       "'han'"
      ]
     },
     "execution_count": 60,
     "metadata": {},
     "output_type": "execute_result"
    }
   ],
   "source": [
    "name[2:5]"
   ]
  },
  {
   "cell_type": "code",
   "execution_count": 61,
   "id": "024d065a",
   "metadata": {},
   "outputs": [
    {
     "data": {
      "text/plain": [
       "[10, 20, 3.4, 65.32, True, False, 'shyam', 'rohan']"
      ]
     },
     "execution_count": 61,
     "metadata": {},
     "output_type": "execute_result"
    }
   ],
   "source": [
    "li"
   ]
  },
  {
   "cell_type": "code",
   "execution_count": 79,
   "id": "61ab8f5a",
   "metadata": {},
   "outputs": [
    {
     "name": "stdout",
     "output_type": "stream",
     "text": [
      "shyam\n",
      "rohan\n"
     ]
    }
   ],
   "source": [
    "# Loops\n",
    "# For Loop\n",
    "# The for loop is used to iterate over a sequence (such as a list, tuple, string)\n",
    "\n",
    "li = [10, 20, 3.4, 65.32, True, False, 'shyam', 'rohan']\n",
    "\n",
    "for number in li:    #indentation\n",
    "    if type(number) == str:\n",
    "        print(number)\n",
    "    #     pass                \n",
    "    # else:\n",
    "    #     print(number)\n"
   ]
  },
  {
   "cell_type": "code",
   "execution_count": 72,
   "id": "fefa9882",
   "metadata": {},
   "outputs": [
    {
     "name": "stdout",
     "output_type": "stream",
     "text": [
      "1\n",
      "3\n",
      "5\n",
      "7\n",
      "9\n"
     ]
    }
   ],
   "source": [
    "for i in range(1,11,2):\n",
    "    print(i)"
   ]
  },
  {
   "cell_type": "code",
   "execution_count": 82,
   "id": "3f37dc22",
   "metadata": {},
   "outputs": [
    {
     "name": "stdout",
     "output_type": "stream",
     "text": [
      "10\n",
      "9\n",
      "8\n",
      "7\n",
      "6\n",
      "5\n"
     ]
    }
   ],
   "source": [
    "# While Loop\n",
    "\n",
    "i = 10\n",
    "while(i>0):\n",
    "    print(i)\n",
    "    if i == 5:\n",
    "        break\n",
    "    i = i - 1"
   ]
  },
  {
   "cell_type": "code",
   "execution_count": 85,
   "id": "90953e64",
   "metadata": {},
   "outputs": [
    {
     "name": "stdout",
     "output_type": "stream",
     "text": [
      "-10\n",
      "-9\n",
      "-8\n",
      "-7\n",
      "-6\n",
      "-5\n",
      "-4\n",
      "-3\n",
      "-2\n",
      "-1\n",
      "0\n",
      "1\n",
      "2\n",
      "3\n",
      "4\n",
      "5\n"
     ]
    }
   ],
   "source": [
    "for i in range(-10, 10):\n",
    "    print(i)\n",
    "    if i == 5:\n",
    "        break"
   ]
  },
  {
   "cell_type": "code",
   "execution_count": null,
   "id": "ae7070e6",
   "metadata": {},
   "outputs": [],
   "source": [
    "# programming example questions from above learned things\n",
    "# 1. How to create a list of numbers from 1 to 15  (using range)\n",
    "# 2. Write a code to print Even numbers from 1 to 20 (using range)\n",
    "# 3. Write a code to print 9th table  (use normal for loop)\n",
    "# 4. write a code to grade the student based on marks (<35 fail, >35 pass, >60 good  >80 Excellent)\n",
    "# 5. [10, 20, 3.4, 65.32, True, False, 'shyam', 'rohan']  multiply the only numbers from this list with 10.\n",
    "\n",
    "\""
   ]
  },
  {
   "cell_type": "markdown",
   "id": "b3e2a1ac",
   "metadata": {},
   "source": [
    "## 1. How to create a list of numbers from 1 to 15  (using range)"
   ]
  },
  {
   "cell_type": "code",
   "execution_count": 117,
   "id": "a079035b",
   "metadata": {},
   "outputs": [
    {
     "name": "stdout",
     "output_type": "stream",
     "text": [
      "1 2 3 4 5 6 7 8 9 10 11 12 13 14 15 "
     ]
    }
   ],
   "source": [
    "for i in range(1,16):\n",
    "    print(i, end=' ')"
   ]
  },
  {
   "cell_type": "markdown",
   "id": "0c306f5a",
   "metadata": {},
   "source": [
    "## 2. Write a code to print Even numbers from 1 to 20 (using range)"
   ]
  },
  {
   "cell_type": "code",
   "execution_count": 114,
   "id": "7ea8b671",
   "metadata": {},
   "outputs": [
    {
     "name": "stdout",
     "output_type": "stream",
     "text": [
      "2\n",
      "4\n",
      "6\n",
      "8\n",
      "10\n",
      "12\n",
      "14\n",
      "16\n",
      "18\n",
      "20\n"
     ]
    }
   ],
   "source": [
    "for i in range(2,21,2):\n",
    "    print(i)"
   ]
  },
  {
   "cell_type": "markdown",
   "id": "9f64288c",
   "metadata": {},
   "source": [
    "## 3 Write a code to print 9th table  (use normal for loop)"
   ]
  },
  {
   "cell_type": "code",
   "execution_count": 100,
   "id": "deb74858",
   "metadata": {},
   "outputs": [
    {
     "name": "stdout",
     "output_type": "stream",
     "text": [
      "9 * 1 = 9\n",
      "9 * 2 = 18\n",
      "9 * 3 = 27\n",
      "9 * 4 = 36\n",
      "9 * 5 = 45\n",
      "9 * 6 = 54\n",
      "9 * 7 = 63\n",
      "9 * 8 = 72\n",
      "9 * 9 = 81\n",
      "9 * 10 = 90\n"
     ]
    }
   ],
   "source": [
    "for i in range(1,11):\n",
    "    print(f'9 * {i} = {9 * i}')"
   ]
  },
  {
   "cell_type": "markdown",
   "id": "7f1742f9",
   "metadata": {},
   "source": [
    "### 4. write a code to grade the student based on marks (<35 fail, >35 pass, >60 good  >80 Excellent)"
   ]
  },
  {
   "cell_type": "code",
   "execution_count": 110,
   "id": "d1ef9b6a",
   "metadata": {},
   "outputs": [
    {
     "name": "stdout",
     "output_type": "stream",
     "text": [
      "pass\n"
     ]
    }
   ],
   "source": [
    "i = 50\n",
    "if i < 35:\n",
    "    print ('fail')\n",
    "elif i > 35:\n",
    "    print ('pass')\n",
    "elif i > 60:\n",
    "    print ('good')\n",
    "else:\n",
    "    print ('excellent')"
   ]
  },
  {
   "cell_type": "markdown",
   "id": "e65a8ab5",
   "metadata": {},
   "source": [
    "#### 5. [10, 20, 3.4, 65.32, True, False, 'shyam', 'rohan']  multiply the only numbers from this list with 10."
   ]
  },
  {
   "cell_type": "code",
   "execution_count": 118,
   "id": "4440630a",
   "metadata": {},
   "outputs": [
    {
     "name": "stdout",
     "output_type": "stream",
     "text": [
      "100 200 34.0 653.1999999999999 "
     ]
    }
   ],
   "source": [
    "li = [10, 20, 3.4, 65.32, True, False, 'shyam', 'rohan']\n",
    "\n",
    "for item in li:\n",
    "    if type(item) == int or type(item) == float:\n",
    "        print((item)* 10, end=' ')"
   ]
  },
  {
   "cell_type": "code",
   "execution_count": null,
   "id": "b77f64ac",
   "metadata": {},
   "outputs": [],
   "source": []
  }
 ],
 "metadata": {
  "kernelspec": {
   "display_name": "venv",
   "language": "python",
   "name": "python3"
  },
  "language_info": {
   "codemirror_mode": {
    "name": "ipython",
    "version": 3
   },
   "file_extension": ".py",
   "mimetype": "text/x-python",
   "name": "python",
   "nbconvert_exporter": "python",
   "pygments_lexer": "ipython3",
   "version": "3.13.3"
  }
 },
 "nbformat": 4,
 "nbformat_minor": 5
}
